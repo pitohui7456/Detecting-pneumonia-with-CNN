{
  "nbformat": 4,
  "nbformat_minor": 0,
  "metadata": {
    "accelerator": "GPU",
    "colab": {
      "name": "전처리적용.ipynb",
      "provenance": [],
      "collapsed_sections": [],
      "mount_file_id": "11Z8m5e1T_C5xk2HqNBWK7KqClyV-O4vz",
      "authorship_tag": "ABX9TyPeaBjkED9NysKCZDDV1HNb",
      "include_colab_link": true
    },
    "kernelspec": {
      "display_name": "Python 3",
      "name": "python3"
    }
  },
  "cells": [
    {
      "cell_type": "markdown",
      "metadata": {
        "id": "view-in-github",
        "colab_type": "text"
      },
      "source": [
        "<a href=\"https://colab.research.google.com/github/pitohui7456/Detecting-pneumonia-with-CNN/blob/main/%EC%A0%84%EC%B2%98%EB%A6%AC%EC%A0%81%EC%9A%A9.ipynb\" target=\"_parent\"><img src=\"https://colab.research.google.com/assets/colab-badge.svg\" alt=\"Open In Colab\"/></a>"
      ]
    },
    {
      "cell_type": "code",
      "metadata": {
        "id": "mNpdfWpMlB2-",
        "outputId": "c79ca6ef-57bd-4d59-832b-918c8aec9ad2",
        "colab": {
          "base_uri": "https://localhost:8080/",
          "height": 35
        }
      },
      "source": [
        "import tensorflow as tf\n",
        "tf.__version__"
      ],
      "execution_count": null,
      "outputs": [
        {
          "output_type": "execute_result",
          "data": {
            "application/vnd.google.colaboratory.intrinsic+json": {
              "type": "string"
            },
            "text/plain": [
              "'2.3.0'"
            ]
          },
          "metadata": {
            "tags": []
          },
          "execution_count": 1
        }
      ]
    },
    {
      "cell_type": "code",
      "metadata": {
        "id": "Ap3F0g6ymWqZ",
        "outputId": "155d83d4-b943-41e3-f979-97eec7845831",
        "colab": {
          "base_uri": "https://localhost:8080/",
          "height": 35
        }
      },
      "source": [
        "import keras\n",
        "keras.__version__"
      ],
      "execution_count": null,
      "outputs": [
        {
          "output_type": "execute_result",
          "data": {
            "application/vnd.google.colaboratory.intrinsic+json": {
              "type": "string"
            },
            "text/plain": [
              "'2.4.3'"
            ]
          },
          "metadata": {
            "tags": []
          },
          "execution_count": 2
        }
      ]
    },
    {
      "cell_type": "code",
      "metadata": {
        "id": "lSyyi5u5iqIF"
      },
      "source": [
        "!unzip /content/drive/My\\ Drive/새출발/png_조정.zip -d /content"
      ],
      "execution_count": null,
      "outputs": []
    },
    {
      "cell_type": "code",
      "metadata": {
        "id": "IW4LE-K-iwIt"
      },
      "source": [
        "import numpy as np\n",
        "import cv2  "
      ],
      "execution_count": null,
      "outputs": []
    },
    {
      "cell_type": "code",
      "metadata": {
        "id": "EVUsiliEi0jy"
      },
      "source": [
        "np.random.seed(100)"
      ],
      "execution_count": null,
      "outputs": []
    },
    {
      "cell_type": "code",
      "metadata": {
        "id": "y_vDDzUDrvSX"
      },
      "source": [
        "def adjust_gamma(image, gamma=2):\n",
        "   table = np.array([((i / 255.0) ** gamma) * 255\n",
        "                     for i in np.arange(0, 256)]).astype(\"uint8\")\n",
        "   # apply gamma correction using the lookup table\n",
        "   return cv2.LUT(image, table)"
      ],
      "execution_count": null,
      "outputs": []
    },
    {
      "cell_type": "code",
      "metadata": {
        "id": "pgjnSvO1sFem"
      },
      "source": [
        "import os\n",
        "os.mkdir('/content/test')\n",
        "os.mkdir('/content/test/nor')\n",
        "os.mkdir('/content/test/pneu')\n",
        "\n",
        "os.mkdir('/content/train')\n",
        "os.mkdir('/content/train/nor')\n",
        "os.mkdir('/content/train/pneu')"
      ],
      "execution_count": null,
      "outputs": []
    },
    {
      "cell_type": "code",
      "metadata": {
        "id": "WxnUOxadsQZi"
      },
      "source": [
        "for img_name in os.listdir('/content/폐렴png_조정/'):\n",
        "    image_path='/content/폐렴png_조정/'+img_name\n",
        "    #print(img_name)\n",
        "    dst='/content/train/pneu/'+img_name\n",
        "    img = cv2.imread(image_path,0)\n",
        "\n",
        "    clahe = cv2.createCLAHE(clipLimit=2.0, tileGridSize=(8,8))\n",
        "    img2 = clahe.apply(img)\n",
        "    img2 = adjust_gamma(img2,2)\n",
        "    img3 = cv2.resize(img2,(256,256))\n",
        "\n",
        "    #cv2_imshow(img3)\n",
        "    cv2.imwrite(dst,img3)\n",
        "\n",
        "for img_name in os.listdir('/content/정상png_조정/'):\n",
        "    image_path='/content/정상png_조정/'+img_name\n",
        "    #print(img_name)\n",
        "    dst='/content/train/nor/'+img_name\n",
        "    img = cv2.imread(image_path,0)\n",
        "\n",
        "    clahe = cv2.createCLAHE(clipLimit=2.0, tileGridSize=(8,8))\n",
        "    img2 = clahe.apply(img)\n",
        "    img2 = adjust_gamma(img2,2)\n",
        "    img3 = cv2.resize(img2,(256,256))\n",
        "\n",
        "    #cv2_imshow(img3)\n",
        "    cv2.imwrite(dst,img3)"
      ],
      "execution_count": null,
      "outputs": []
    },
    {
      "cell_type": "code",
      "metadata": {
        "id": "xsLHVN62uFjT"
      },
      "source": [
        "import shutil\n",
        "i=0\n",
        "for name in os.listdir('/content/train/nor'):\n",
        "  src='/content/train/nor/'+name\n",
        "  dst='/content/test/nor/'+name\n",
        "  shutil.move(src,dst)\n",
        "  i+=1\n",
        "  if i>1423:\n",
        "    break\n",
        "\n",
        "i=0\n",
        "for name in os.listdir('/content/train/pneu'):\n",
        "  src='/content/train/pneu/'+name\n",
        "  dst='/content/test/pneu/'+name\n",
        "  shutil.move(src,dst)\n",
        "  i+=1\n",
        "  if i>800:\n",
        "    break"
      ],
      "execution_count": null,
      "outputs": []
    },
    {
      "cell_type": "code",
      "metadata": {
        "id": "Zujp1v1ovEcW"
      },
      "source": [
        "from tensorflow.keras.preprocessing.image import ImageDataGenerator"
      ],
      "execution_count": null,
      "outputs": []
    },
    {
      "cell_type": "code",
      "metadata": {
        "id": "a5nH4S-svHmE"
      },
      "source": [
        "train_datagen = ImageDataGenerator(rescale=1./255,zoom_range=0.05,rotation_range=3,shear_range=0.01,height_shift_range=0.03,width_shift_range=0.02, fill_mode='nearest')\n",
        "test_datagen = ImageDataGenerator(rescale=1./255)"
      ],
      "execution_count": null,
      "outputs": []
    },
    {
      "cell_type": "code",
      "metadata": {
        "id": "BZcL0z_CvLU4",
        "outputId": "80e33e46-6e1e-42fc-da54-65a9e02b7dc5",
        "colab": {
          "base_uri": "https://localhost:8080/"
        }
      },
      "source": [
        "train_generator = train_datagen.flow_from_directory('/content/train',target_size=(256, 256),batch_size=32,color_mode='grayscale',class_mode='binary')\n",
        "test_generator =test_datagen.flow_from_directory('/content/test',target_size=(256, 256),batch_size=32,color_mode='grayscale',class_mode='binary')"
      ],
      "execution_count": null,
      "outputs": [
        {
          "output_type": "stream",
          "text": [
            "Found 12000 images belonging to 2 classes.\n",
            "Found 2225 images belonging to 2 classes.\n"
          ],
          "name": "stdout"
        }
      ]
    },
    {
      "cell_type": "code",
      "metadata": {
        "id": "Qaq_PWwVvNFY"
      },
      "source": [
        "from keras.models import Sequential\n",
        "from keras.layers import Dense, Dropout, BatchNormalization, Activation, Conv2D, MaxPooling2D, GlobalAveragePooling2D\n",
        "from keras.initializers  import VarianceScaling, glorot_normal\n",
        "from keras.optimizers import Adam"
      ],
      "execution_count": null,
      "outputs": []
    },
    {
      "cell_type": "code",
      "metadata": {
        "id": "BWrDn120vPU0"
      },
      "source": [
        "#모델 생성\n",
        "model = Sequential()\n",
        "model.add(Conv2D(32,kernel_size=(3,3), strides=(1,1), padding='valid', activation='relu', input_shape=(256,256,1), kernel_initializer=VarianceScaling(scale=2.0,distribution='normal')))\n",
        "model.add(MaxPooling2D(pool_size=(2,2), strides=(2,2)))\n",
        "model.add(Conv2D(64,kernel_size=(3,3), strides=(1,1), padding='valid', activation='relu', kernel_initializer=VarianceScaling(scale=2.0,distribution='normal'))) \n",
        "model.add(MaxPooling2D(pool_size=(3,3), strides=(3,3)))\n",
        "model.add(Conv2D(64,kernel_size=(3,3), strides=(1,1), padding='valid', activation='relu', kernel_initializer=VarianceScaling(scale=2.0,distribution='normal'))) \n",
        "model.add(MaxPooling2D(pool_size=(2,2), strides=(2,2)))\n",
        "model.add(Conv2D(128,kernel_size=(3,3), strides=(1,1), padding='valid', activation='relu', kernel_initializer=VarianceScaling(scale=2.0,distribution='normal'))) \n",
        "model.add(MaxPooling2D(pool_size=(2,2), strides=(2,2)))\n",
        "model.add(Conv2D(256,kernel_size=(3,3), strides=(1,1), padding='valid', activation='relu', kernel_initializer=VarianceScaling(scale=2.0,distribution='normal'))) \n",
        "model.add(MaxPooling2D(pool_size=(2,2), strides=(2,2)))\n",
        "model.add(Conv2D(512,kernel_size=(3,3), strides=(1,1), padding='valid', activation='relu', kernel_initializer=VarianceScaling(scale=2.0,distribution='normal')))\n",
        "model.add(GlobalAveragePooling2D(data_format='channels_last'))\n",
        "model.add(Dense(512, activation='relu', kernel_initializer=VarianceScaling(scale=2.0,distribution='normal')))\n",
        "model.add(Dropout(0.25))\n",
        "model.add(Dense(256, activation='relu', kernel_initializer=VarianceScaling(scale=2.0,distribution='normal')))\n",
        "model.add(Dropout(0.4))\n",
        "model.add(Dense(128, activation='relu', kernel_initializer=VarianceScaling(scale=2.0,distribution='normal')))\n",
        "model.add(Dropout(0.3))\n",
        "model.add(BatchNormalization())\n",
        "model.add(Dense(64, activation='relu', kernel_initializer=VarianceScaling(scale=2.0,distribution='normal')))\n",
        "model.add(Dropout(0.5))\n",
        "model.add(Dense(1, activation='sigmoid', kernel_initializer=glorot_normal()))"
      ],
      "execution_count": null,
      "outputs": []
    },
    {
      "cell_type": "code",
      "metadata": {
        "id": "hw0AEb9xvQ24"
      },
      "source": [
        "model.compile(loss='binary_crossentropy', optimizer=Adam(lr=0.000009), metrics=['accuracy'])"
      ],
      "execution_count": null,
      "outputs": []
    },
    {
      "cell_type": "code",
      "metadata": {
        "id": "SDUUvTYivUAY"
      },
      "source": [
        "model.summary()"
      ],
      "execution_count": null,
      "outputs": []
    },
    {
      "cell_type": "code",
      "metadata": {
        "id": "astC5XejqUOp"
      },
      "source": [
        "%%time\n",
        "history = model.fit(train_generator,steps_per_epoch=375 , epochs=50, validation_data=test_generator, validation_steps=70, verbose=1)"
      ],
      "execution_count": null,
      "outputs": []
    },
    {
      "cell_type": "code",
      "metadata": {
        "id": "miDJlz7I0hx5",
        "outputId": "59b548fd-f61c-4d43-f9dc-6d60ec791d9d",
        "colab": {
          "base_uri": "https://localhost:8080/",
          "height": 279
        }
      },
      "source": [
        "%matplotlib inline\n",
        "import matplotlib.pyplot as plt\n",
        "\n",
        "fig, loss_ax = plt.subplots()\n",
        "\n",
        "acc_ax = loss_ax.twinx()\n",
        "\n",
        "acc_ax.plot(history.history['accuracy'], 'b', label='train acc')\n",
        "acc_ax.plot(history.history['val_accuracy'], 'g', label='val acc')\n",
        "\n",
        "loss_ax.plot(history.history['loss'], 'y', label='train loss')\n",
        "loss_ax.plot(history.history['val_loss'], 'r', label='val loss')\n",
        "\n",
        "loss_ax.set_xlabel('epoch')\n",
        "loss_ax.set_ylabel('loss')\n",
        "acc_ax.set_ylabel('accuray')\n",
        "\n",
        "loss_ax.legend(loc='upper left')\n",
        "acc_ax.legend(loc='lower left')\n",
        "\n",
        "plt.show()"
      ],
      "execution_count": null,
      "outputs": [
        {
          "output_type": "display_data",
          "data": {
            "image/png": "[encoded data removed]",
            "text/plain": [
              "<Figure size 432x288 with 2 Axes>"
            ]
          },
          "metadata": {
            "tags": [],
            "needs_background": "light"
          }
        }
      ]
    },
    {
      "cell_type": "code",
      "metadata": {
        "id": "ciGmwk1AdMeY"
      },
      "source": [
        "#CLAHE & gamma correction 적용\n",
        "for img_name in os.listdir('/content/폐렴png_test_조정/'):\n",
        "    image_path='/content/폐렴png_test_조정/'+img_name\n",
        "    #print(img_name)\n",
        "    dst='/content/test/pneu/'+img_name\n",
        "    img = cv2.imread(image_path,0)\n",
        "\n",
        "    clahe = cv2.createCLAHE(clipLimit=2.0, tileGridSize=(8,8))\n",
        "    img2 = clahe.apply(img)\n",
        "    img2 = adjust_gamma(img2,2)\n",
        "    img3 = cv2.resize(img2,(256,256))\n",
        "\n",
        "    #cv2_imshow(img3)\n",
        "    cv2.imwrite(dst,img3)\n",
        "\n",
        "#CLAHE & gamma correction 적용\n",
        "for img_name in os.listdir('/content/정상png_test_조정/'):\n",
        "    image_path='/content/정상png_test_조정/'+img_name\n",
        "    #print(img_name)\n",
        "    dst='/content/test/nor/'+img_name\n",
        "    img = cv2.imread(image_path,0)\n",
        "\n",
        "    clahe = cv2.createCLAHE(clipLimit=2.0, tileGridSize=(8,8))\n",
        "    img2 = clahe.apply(img)\n",
        "    img2 = adjust_gamma(img2,2)\n",
        "    img3 = cv2.resize(img2,(256,256))\n",
        "\n",
        "    #cv2_imshow(img3)\n",
        "    cv2.imwrite(dst,img3)"
      ],
      "execution_count": null,
      "outputs": []
    },
    {
      "cell_type": "code",
      "metadata": {
        "id": "4aDk6tAgLhdh",
        "outputId": "bf279fb6-240f-45ed-d35d-73de83ddf54f",
        "colab": {
          "base_uri": "https://localhost:8080/"
        }
      },
      "source": [
        "test_generator =test_datagen.flow_from_directory('/content/test',target_size=(256, 256),batch_size=32,color_mode='grayscale',class_mode='binary')"
      ],
      "execution_count": null,
      "outputs": [
        {
          "output_type": "stream",
          "text": [
            "Found 2861 images belonging to 2 classes.\n"
          ],
          "name": "stdout"
        }
      ]
    },
    {
      "cell_type": "code",
      "metadata": {
        "id": "bDy3p5eE71DT",
        "outputId": "bd3701ee-9da6-41fa-bfc0-930052cae5b3",
        "colab": {
          "base_uri": "https://localhost:8080/"
        }
      },
      "source": [
        "score =model.evaluate_generator(test_generator)\n",
        "print(\"test %s: %.2f%%   test %s: %.2f%%\" %(model.metrics_names[1], score[1]*100,model.metrics_names[0],score[0]*100))"
      ],
      "execution_count": null,
      "outputs": [
        {
          "output_type": "stream",
          "text": [
            "test accuracy: 88.29%   test loss: 31.28%\n"
          ],
          "name": "stdout"
        }
      ]
    },
    {
      "cell_type": "code",
      "metadata": {
        "id": "yk26i2l_hFiJ"
      },
      "source": [
        "#모델 저장\n",
        "model_json = model.to_json()\n",
        "with open(\"/content/drive/My Drive/성능테스트/전처리모델2.json\", \"w\") as json_file:\n",
        "    json_file.write(model_json)"
      ],
      "execution_count": null,
      "outputs": []
    },
    {
      "cell_type": "code",
      "metadata": {
        "id": "2Lu6XjzjZn0B"
      },
      "source": [
        "#가중치 저장\n",
        "model.save_weights(\"/content/drive/My Drive/성능테스트/전처리모델2.h5\")"
      ],
      "execution_count": null,
      "outputs": []
    },
    {
      "cell_type": "code",
      "metadata": {
        "id": "-hcBA-1dLgR6"
      },
      "source": [
        "#모델 로드\n",
        "from keras.models import model_from_json \n",
        "json_file = open(\"/content/drive/My Drive/성능테스트/전처리모델.json\", \"r\") \n",
        "loaded_model_json = json_file.read() \n",
        "json_file.close() \n",
        "model = model_from_json(loaded_model_json)"
      ],
      "execution_count": null,
      "outputs": []
    },
    {
      "cell_type": "code",
      "metadata": {
        "id": "tD5o6EapyYR9",
        "outputId": "1d199f0f-be78-4f0a-e88a-55f4d90182a8",
        "colab": {
          "base_uri": "https://localhost:8080/"
        }
      },
      "source": [
        "model.load_weights(\"/content/drive/My Drive/성능테스트/전처리모델2.h5\") \n",
        "print(\"Loaded model from disk\")"
      ],
      "execution_count": null,
      "outputs": [
        {
          "output_type": "stream",
          "text": [
            "Loaded model from disk\n"
          ],
          "name": "stdout"
        }
      ]
    },
    {
      "cell_type": "code",
      "metadata": {
        "id": "eYj5wjYU6hCi"
      },
      "source": [
        "!unzip /content/drive/My\\ Drive/새출발/광저우어린이.zip -d /content"
      ],
      "execution_count": null,
      "outputs": []
    },
    {
      "cell_type": "code",
      "metadata": {
        "id": "By27V09lys77"
      },
      "source": [
        "import os"
      ],
      "execution_count": null,
      "outputs": []
    },
    {
      "cell_type": "code",
      "metadata": {
        "id": "v1B1IZ1K6qyk"
      },
      "source": [
        "os.mkdir('/content/test어린이')\n",
        "os.mkdir('/content/test어린이/pneu')\n",
        "os.mkdir('/content/test어린이/nor')"
      ],
      "execution_count": null,
      "outputs": []
    },
    {
      "cell_type": "code",
      "metadata": {
        "id": "dlokS1ND62wZ"
      },
      "source": [
        "#광저우 어린이 이미지 전처리 후 복사\n",
        "k=0\n",
        "#CLAHE & gamma correction 적용\n",
        "for img_name in os.listdir('/content/PNEUMONIA/'):\n",
        "    image_path='/content/PNEUMONIA/'+img_name\n",
        "    #print(img_name)\n",
        "    dst='/content/test어린이/pneu/'+img_name\n",
        "    img = cv2.imread(image_path,0)\n",
        "\n",
        "    clahe = cv2.createCLAHE(clipLimit=2.0, tileGridSize=(8,8))\n",
        "    img2 = clahe.apply(img)\n",
        "    img2 = adjust_gamma(img2,2)\n",
        "    img3 = cv2.resize(img2,(256,256))\n",
        "\n",
        "    #cv2_imshow(img3)\n",
        "    cv2.imwrite(dst,img3)\n",
        "    k+=1\n",
        "    if k>1073:\n",
        "      break\n",
        "\n",
        "for img_name in os.listdir('/content/NORMAL/'):\n",
        "    image_path='/content/NORMAL/'+img_name\n",
        "    #print(img_name)\n",
        "    dst='/content/test어린이/nor/'+img_name\n",
        "    img = cv2.imread(image_path,0)\n",
        "\n",
        "    clahe = cv2.createCLAHE(clipLimit=2.0, tileGridSize=(8,8))\n",
        "    img2 = clahe.apply(img)\n",
        "    img2 = adjust_gamma(img2,2)\n",
        "    img3 = cv2.resize(img2,(256,256))\n",
        "\n",
        "    #cv2_imshow(img3)\n",
        "    cv2.imwrite(dst,img3)"
      ],
      "execution_count": null,
      "outputs": []
    },
    {
      "cell_type": "code",
      "metadata": {
        "id": "Ff1v1YZs8KaG",
        "outputId": "fb2f0a2c-28aa-476d-b93a-6ff9a3ba7b9e",
        "colab": {
          "base_uri": "https://localhost:8080/"
        }
      },
      "source": [
        "test_generator =test_datagen.flow_from_directory('/content/test어린이',target_size=(256, 256),batch_size=32,color_mode='grayscale',class_mode='binary')\n",
        "score =model.evaluate_generator(test_generator)\n",
        "print(\"test %s: %.2f%%   test %s: %.2f%%\" %(model.metrics_names[1], score[1]*100,model.metrics_names[0],score[0]*100))"
      ],
      "execution_count": null,
      "outputs": [
        {
          "output_type": "stream",
          "text": [
            "Found 2657 images belonging to 2 classes.\n",
            "test accuracy: 64.73%   test loss: 84.56%\n"
          ],
          "name": "stdout"
        }
      ]
    },
    {
      "cell_type": "code",
      "metadata": {
        "id": "t90CT1Hg7HKh"
      },
      "source": [
        "for i in range(3):\n",
        "  os.mkdir('/content/child'+str(i+1))\n",
        "  os.mkdir('/content/child'+str(i+1)+'/nor')\n",
        "  os.mkdir('/content/child'+str(i+1)+'/pneu')"
      ],
      "execution_count": null,
      "outputs": []
    },
    {
      "cell_type": "code",
      "metadata": {
        "id": "iPrFG-KS8XN7"
      },
      "source": [
        "#박테리아성, 바이러스성 폐렴 이미지 전처리 후 저장\n",
        "for i in os.listdir('/content/PNEUMONIA'):\n",
        "  src='/content/PNEUMONIA/'+i\n",
        "  dst1='/content/child1/pneu/'+i\n",
        "  dst2='/content/child2/pneu/'+i\n",
        "  img = cv2.imread(src,0)\n",
        "  clahe = cv2.createCLAHE(clipLimit=2.0, tileGridSize=(8,8))\n",
        "  img2 = clahe.apply(img)\n",
        "  img2 = adjust_gamma(img2,2)\n",
        "  img3 = cv2.resize(img2,(256,256))\n",
        "  if i.find('bac',5) != -1:   \n",
        "    cv2.imwrite(dst1,img3)\n",
        "  elif i.find('vir',5) != -1:\n",
        "    cv2.imwrite(dst2,img3)"
      ],
      "execution_count": null,
      "outputs": []
    },
    {
      "cell_type": "code",
      "metadata": {
        "id": "XXtHhZbp0aty",
        "outputId": "87094361-67f7-495e-ed70-18b773dd4785",
        "colab": {
          "base_uri": "https://localhost:8080/"
        }
      },
      "source": [
        "print(len(os.listdir('/content/child1/pneu')))\n",
        "print(len(os.listdir('/content/child2/pneu')))"
      ],
      "execution_count": null,
      "outputs": [
        {
          "output_type": "stream",
          "text": [
            "2780\n",
            "1493\n"
          ],
          "name": "stdout"
        }
      ]
    },
    {
      "cell_type": "code",
      "metadata": {
        "id": "zaEcxQI48dZl"
      },
      "source": [
        "#정상 전처리 후 저장\n",
        "for i in os.listdir('/content/NORMAL'):\n",
        "  src='/content/NORMAL/'+i\n",
        "  dst='/content/child3/nor/'+i\n",
        "  \n",
        "  img = cv2.imread(src,0)\n",
        "  clahe = cv2.createCLAHE(clipLimit=2.0, tileGridSize=(8,8))\n",
        "  img2 = clahe.apply(img)\n",
        "  img2 = adjust_gamma(img2,2)\n",
        "  img3 = cv2.resize(img2,(256,256))\n",
        "  cv2.imwrite(dst,img3)"
      ],
      "execution_count": null,
      "outputs": []
    },
    {
      "cell_type": "code",
      "metadata": {
        "id": "YVjkvJKV8jBd",
        "outputId": "2966f843-be5d-46c9-9aef-d769200b071c",
        "colab": {
          "base_uri": "https://localhost:8080/"
        }
      },
      "source": [
        "for i in range(3):\n",
        "  path='/content/child'+str(i+1)\n",
        "  test_generator =test_datagen.flow_from_directory(path,target_size=(256, 256),batch_size=32,color_mode='grayscale',class_mode='binary')\n",
        "  score =model.evaluate_generator(test_generator)\n",
        "  print(\"test %s: %.2f%%   test %s: %.2f%%\" %(model.metrics_names[1], score[1]*100,model.metrics_names[0],score[0]*100))"
      ],
      "execution_count": null,
      "outputs": [
        {
          "output_type": "stream",
          "text": [
            "Found 2780 images belonging to 2 classes.\n",
            "test accuracy: 96.91%   test loss: 8.66%\n",
            "Found 1493 images belonging to 2 classes.\n",
            "test accuracy: 94.78%   test loss: 14.13%\n",
            "Found 1583 images belonging to 2 classes.\n",
            "test accuracy: 42.70%   test loss: 135.30%\n"
          ],
          "name": "stdout"
        }
      ]
    },
    {
      "cell_type": "code",
      "metadata": {
        "id": "IunOP-Kz8vum"
      },
      "source": [
        "fpath='/content/random_sample'\n",
        "for i in range(10):\n",
        "  os.mkdir(fpath+str(i+1))\n",
        "  os.mkdir(fpath+str(i+1)+'/nor')\n",
        "  os.mkdir(fpath+str(i+1)+'/pneu')"
      ],
      "execution_count": null,
      "outputs": []
    },
    {
      "cell_type": "code",
      "metadata": {
        "id": "ha7zhK3w2gtS"
      },
      "source": [
        "import random\n",
        "random.seed(100)"
      ],
      "execution_count": null,
      "outputs": []
    },
    {
      "cell_type": "code",
      "metadata": {
        "id": "yCNm5TNY6jV8",
        "outputId": "8fd0a66a-e38c-4371-99f5-0ca6f0ba40b3",
        "colab": {
          "base_uri": "https://localhost:8080/"
        }
      },
      "source": [
        "print(len(os.listdir('/content/test/nor')))\n",
        "print(len(os.listdir('/content/test/pneu')))"
      ],
      "execution_count": null,
      "outputs": [
        {
          "output_type": "stream",
          "text": [
            "1704\n",
            "1157\n"
          ],
          "name": "stdout"
        }
      ]
    },
    {
      "cell_type": "code",
      "metadata": {
        "id": "E6vB1jgJ80EJ",
        "outputId": "17aa0c11-3981-43bf-b9c3-d0444174dad6",
        "colab": {
          "base_uri": "https://localhost:8080/"
        }
      },
      "source": [
        "#랜덤 샘플링 \n",
        "for i in range(10):\n",
        "  src_list=random.sample(os.listdir('/content/test/nor'),595)\n",
        "  for j in range(595):\n",
        "    src='/content/test/nor/'+src_list[j]\n",
        "    dst='/content/random_sample'+str(i+1)+'/nor/'+src_list[j]\n",
        "    shutil.copyfile(src,dst)\n",
        "    \n",
        "  for k in range(405):\n",
        "    src='/content/test/pneu/'+random.choice(os.listdir('/content/test/pneu'))\n",
        "    dst='/content/random_sample'+str(i+1)+'/pneu/'+src_list[k]\n",
        "    shutil.copy(src,dst)\n",
        "  \n",
        "  path='/content/random_sample'+str(i+1)\n",
        "  test_generator =test_datagen.flow_from_directory(path,target_size=(256, 256),batch_size=32,color_mode='grayscale',class_mode='binary')\n",
        "  score =model.evaluate_generator(test_generator)\n",
        "  print(\"test %s: %.2f%%   test %s: %.2f%%\" %(model.metrics_names[1], score[1]*100,model.metrics_names[0],score[0]*100))"
      ],
      "execution_count": null,
      "outputs": [
        {
          "output_type": "stream",
          "text": [
            "Found 1000 images belonging to 2 classes.\n",
            "test accuracy: 87.90%   test loss: 32.40%\n",
            "Found 1000 images belonging to 2 classes.\n",
            "test accuracy: 88.10%   test loss: 32.38%\n",
            "Found 1000 images belonging to 2 classes.\n",
            "test accuracy: 89.10%   test loss: 30.05%\n",
            "Found 1000 images belonging to 2 classes.\n",
            "test accuracy: 88.10%   test loss: 31.45%\n",
            "Found 1000 images belonging to 2 classes.\n",
            "test accuracy: 88.10%   test loss: 31.95%\n",
            "Found 1000 images belonging to 2 classes.\n",
            "test accuracy: 87.40%   test loss: 35.07%\n",
            "Found 1000 images belonging to 2 classes.\n",
            "test accuracy: 87.00%   test loss: 33.23%\n",
            "Found 1000 images belonging to 2 classes.\n",
            "test accuracy: 87.80%   test loss: 31.96%\n",
            "Found 1000 images belonging to 2 classes.\n",
            "test accuracy: 88.10%   test loss: 30.38%\n",
            "Found 1000 images belonging to 2 classes.\n",
            "test accuracy: 86.80%   test loss: 34.34%\n"
          ],
          "name": "stdout"
        }
      ]
    },
    {
      "cell_type": "code",
      "metadata": {
        "id": "-BFaLCDt12z_"
      },
      "source": [
        "#87.84"
      ],
      "execution_count": null,
      "outputs": []
    }
  ]
}